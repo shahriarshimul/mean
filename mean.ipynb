{
  "nbformat": 4,
  "nbformat_minor": 0,
  "metadata": {
    "colab": {
      "provenance": [],
      "authorship_tag": "ABX9TyOd67PSVK1KHxjfR0EmxJnL",
      "include_colab_link": true
    },
    "kernelspec": {
      "name": "python3",
      "display_name": "Python 3"
    },
    "language_info": {
      "name": "python"
    }
  },
  "cells": [
    {
      "cell_type": "markdown",
      "metadata": {
        "id": "view-in-github",
        "colab_type": "text"
      },
      "source": [
        "<a href=\"https://colab.research.google.com/github/shahriarshimul/mean/blob/main/mean.ipynb\" target=\"_parent\"><img src=\"https://colab.research.google.com/assets/colab-badge.svg\" alt=\"Open In Colab\"/></a>"
      ]
    },
    {
      "cell_type": "code",
      "execution_count": 3,
      "metadata": {
        "id": "DcLj_9u1cfAj"
      },
      "outputs": [],
      "source": [
        "# importing numpy\n",
        "import numpy"
      ]
    },
    {
      "cell_type": "code",
      "source": [
        "# Now declaring the array'\n",
        "\n",
        "speed = [99,34,55,98,86,34,56,75]"
      ],
      "metadata": {
        "id": "WBVP9zqnc5-r"
      },
      "execution_count": 6,
      "outputs": []
    },
    {
      "cell_type": "code",
      "source": [
        "x = numpy.mean(speed)"
      ],
      "metadata": {
        "id": "JqfTAPaMdID2"
      },
      "execution_count": 7,
      "outputs": []
    },
    {
      "cell_type": "code",
      "source": [
        "# @title\n",
        "print(x)"
      ],
      "metadata": {
        "id": "-YVH53ALdN6r",
        "outputId": "a01e16c3-1dc0-4907-e041-7e5eb35e8445",
        "colab": {
          "base_uri": "https://localhost:8080/"
        },
        "cellView": "form"
      },
      "execution_count": 8,
      "outputs": [
        {
          "output_type": "stream",
          "name": "stdout",
          "text": [
            "67.125\n"
          ]
        }
      ]
    }
  ]
}